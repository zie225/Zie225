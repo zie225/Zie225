{
 "cells": [
  {
   "cell_type": "code",
   "execution_count": 14,
   "metadata": {},
   "outputs": [],
   "source": [
    "from bs4 import BeautifulSoup\n",
    "import requests\n",
    "import pandas as pd\n",
    "import numpy as np\n",
    "\n",
    "names=[]\n",
    "prices=[]\n",
    "changes=[]\n",
    "percentChanges=[]\n",
    "\n",
    "#retrieve forex data from yahoo \n",
    "currenciesUrl = \"https://in.finance.yahoo.com/currencies?guccounter=1\"\n",
    "data = requests.get(currenciesUrl)\n",
    "soup = BeautifulSoup(data.text)"
   ]
  },
  {
   "cell_type": "code",
   "execution_count": 15,
   "metadata": {},
   "outputs": [],
   "source": [
    "#scrap forex data in lists\n",
    "counter = 40\n",
    "for i in range(40, 404, 14):\n",
    "    for listing in soup.find_all('tr', attrs={'data-reactid':i}):\n",
    "        for name in listing.find_all('td', attrs={'data-reactid':i+3}):\n",
    "            names.append(name.text)\n",
    "        for price in listing.find_all('td', attrs={'data-reactid':i+4}):\n",
    "            prices.append(price.text)\n",
    "        for change in listing.find_all('td', attrs={'data-reactid':i+5}):\n",
    "            changes.append(change.text)\n",
    "        for percentChange in listing.find_all('td', attrs={'data-reactid':i+7}):\n",
    "            percentChanges.append(percentChange.text)"
   ]
  },
  {
   "cell_type": "code",
   "execution_count": 16,
   "metadata": {},
   "outputs": [],
   "source": [
    "#sort percent changes in descending order\n",
    "percentChangesSorted = sorted([percentChanges[x].replace(\"%\", \"\") for x in range(len(percentChanges))], key=float, reverse = True)\n",
    "index = np.argsort([float(el.replace(\"%\", \"\")) for el in percentChanges])[::-1]"
   ]
  },
  {
   "cell_type": "code",
   "execution_count": 17,
   "metadata": {},
   "outputs": [],
   "source": [
    "#create pandas dataframe from list and write result in csv file\n",
    "df = pd.DataFrame({\"Names\": [names[x] for x in index], \"Prices\": [prices[x] for x in index], \"Change\": [changes[x] for x in index], \"% Change\": percentChangesSorted})\n",
    "df.to_csv('YahooCurrencies.csv', index=False, encoding='utf-8', sep=';')"
   ]
  },
  {
   "cell_type": "code",
   "execution_count": 18,
   "metadata": {},
   "outputs": [],
   "source": [
    "df=pd.read_csv('YahooCurrencies.csv', encoding='utf-8', sep=';')"
   ]
  },
  {
   "cell_type": "code",
   "execution_count": 19,
   "metadata": {},
   "outputs": [
    {
     "data": {
      "text/html": [
       "<div>\n",
       "<style scoped>\n",
       "    .dataframe tbody tr th:only-of-type {\n",
       "        vertical-align: middle;\n",
       "    }\n",
       "\n",
       "    .dataframe tbody tr th {\n",
       "        vertical-align: top;\n",
       "    }\n",
       "\n",
       "    .dataframe thead th {\n",
       "        text-align: right;\n",
       "    }\n",
       "</style>\n",
       "<table border=\"1\" class=\"dataframe\">\n",
       "  <thead>\n",
       "    <tr style=\"text-align: right;\">\n",
       "      <th></th>\n",
       "      <th>Names</th>\n",
       "      <th>Prices</th>\n",
       "      <th>Change</th>\n",
       "      <th>% Change</th>\n",
       "    </tr>\n",
       "  </thead>\n",
       "  <tbody>\n",
       "    <tr>\n",
       "      <th>0</th>\n",
       "      <td>EUR/JPY</td>\n",
       "      <td>123.7200</td>\n",
       "      <td>1.3600</td>\n",
       "      <td>1.11</td>\n",
       "    </tr>\n",
       "    <tr>\n",
       "      <th>1</th>\n",
       "      <td>USD/RUB</td>\n",
       "      <td>69.1978</td>\n",
       "      <td>0.7158</td>\n",
       "      <td>1.05</td>\n",
       "    </tr>\n",
       "    <tr>\n",
       "      <th>2</th>\n",
       "      <td>EUR/INR</td>\n",
       "      <td>85.6966</td>\n",
       "      <td>0.8757</td>\n",
       "      <td>1.03</td>\n",
       "    </tr>\n",
       "    <tr>\n",
       "      <th>3</th>\n",
       "      <td>EUR/CAD</td>\n",
       "      <td>1.5315</td>\n",
       "      <td>0.0157</td>\n",
       "      <td>1.03</td>\n",
       "    </tr>\n",
       "    <tr>\n",
       "      <th>4</th>\n",
       "      <td>EUR/USD</td>\n",
       "      <td>1.1339</td>\n",
       "      <td>0.0099</td>\n",
       "      <td>0.88</td>\n",
       "    </tr>\n",
       "  </tbody>\n",
       "</table>\n",
       "</div>"
      ],
      "text/plain": [
       "     Names    Prices  Change  % Change\n",
       "0  EUR/JPY  123.7200  1.3600      1.11\n",
       "1  USD/RUB   69.1978  0.7158      1.05\n",
       "2  EUR/INR   85.6966  0.8757      1.03\n",
       "3  EUR/CAD    1.5315  0.0157      1.03\n",
       "4  EUR/USD    1.1339  0.0099      0.88"
      ]
     },
     "execution_count": 19,
     "metadata": {},
     "output_type": "execute_result"
    }
   ],
   "source": [
    "df.head()"
   ]
  },
  {
   "cell_type": "code",
   "execution_count": null,
   "metadata": {},
   "outputs": [],
   "source": []
  }
 ],
 "metadata": {
  "kernelspec": {
   "display_name": "Python 3",
   "language": "python",
   "name": "python3"
  },
  "language_info": {
   "codemirror_mode": {
    "name": "ipython",
    "version": 3
   },
   "file_extension": ".py",
   "mimetype": "text/x-python",
   "name": "python",
   "nbconvert_exporter": "python",
   "pygments_lexer": "ipython3",
   "version": "3.7.1"
  }
 },
 "nbformat": 4,
 "nbformat_minor": 2
}
